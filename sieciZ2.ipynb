{
  "nbformat": 4,
  "nbformat_minor": 0,
  "metadata": {
    "colab": {
      "name": "sieciZ2.ipynb",
      "provenance": [],
      "authorship_tag": "ABX9TyOWF/Y/V9ympEp4aVLReZSm",
      "include_colab_link": true
    },
    "kernelspec": {
      "name": "python3",
      "display_name": "Python 3"
    }
  },
  "cells": [
    {
      "cell_type": "markdown",
      "metadata": {
        "id": "view-in-github",
        "colab_type": "text"
      },
      "source": [
        "<a href=\"https://colab.research.google.com/github/MarcelinaWadon/zajecia/blob/marcelkamaster/sieciZ2.ipynb\" target=\"_parent\"><img src=\"https://colab.research.google.com/assets/colab-badge.svg\" alt=\"Open In Colab\"/></a>"
      ]
    },
    {
      "cell_type": "markdown",
      "metadata": {
        "id": "BVBF-b8nP3Hx",
        "colab_type": "text"
      },
      "source": [
        "# Sieci grupa 1, zajęcia 2"
      ]
    },
    {
      "cell_type": "markdown",
      "metadata": {
        "id": "Gi3LtsFGQFri",
        "colab_type": "text"
      },
      "source": [
        "Podstawowe operacje arytmetyczne w Pythonie\n",
        "‒\tDodawanie \t+\n",
        "o\tx += 7 oznacza x = x+7\n",
        "\n",
        "‒\tOdejmowanie\t-\n",
        "\n",
        "‒\tMnożenie\t*\n",
        "\n",
        "‒\tDzielenie\t/\n",
        "\n",
        "‒\tModulo\t%\n",
        "\n",
        "‒\tPotęga\t\t**\n",
        "\n",
        "‒\tDzielenie bez reszty\t//\n"
      ]
    },
    {
      "cell_type": "code",
      "metadata": {
        "id": "MwosrbbiQgsE",
        "colab_type": "code",
        "colab": {}
      },
      "source": [
        "x = 10 \n",
        "x = x + 5 "
      ],
      "execution_count": 0,
      "outputs": []
    },
    {
      "cell_type": "code",
      "metadata": {
        "id": "0FD1HRPaPwZ0",
        "colab_type": "code",
        "colab": {
          "base_uri": "https://localhost:8080/",
          "height": 34
        },
        "outputId": "3eb2e9a6-3de2-4f22-a70c-f489ce44a59b"
      },
      "source": [
        "print (x)"
      ],
      "execution_count": 2,
      "outputs": [
        {
          "output_type": "stream",
          "text": [
            "15\n"
          ],
          "name": "stdout"
        }
      ]
    },
    {
      "cell_type": "code",
      "metadata": {
        "id": "Kwa5f8ieQyEZ",
        "colab_type": "code",
        "colab": {}
      },
      "source": [
        "y = 5\n",
        "y +=5 "
      ],
      "execution_count": 0,
      "outputs": []
    },
    {
      "cell_type": "code",
      "metadata": {
        "id": "UXU08nPHQ8S0",
        "colab_type": "code",
        "colab": {
          "base_uri": "https://localhost:8080/",
          "height": 34
        },
        "outputId": "b4508777-01ee-48db-eb44-195defbf0933"
      },
      "source": [
        "print (y)\n"
      ],
      "execution_count": 4,
      "outputs": [
        {
          "output_type": "stream",
          "text": [
            "10\n"
          ],
          "name": "stdout"
        }
      ]
    },
    {
      "cell_type": "code",
      "metadata": {
        "id": "LIL0cpOyQ-zM",
        "colab_type": "code",
        "colab": {}
      },
      "source": [
        "e = 15\n",
        "e/=3"
      ],
      "execution_count": 0,
      "outputs": []
    },
    {
      "cell_type": "code",
      "metadata": {
        "id": "aqc20mlXRUPX",
        "colab_type": "code",
        "colab": {
          "base_uri": "https://localhost:8080/",
          "height": 34
        },
        "outputId": "e507c9b4-9310-4761-80cb-a9d78ba2fb67"
      },
      "source": [
        "print (e)\n"
      ],
      "execution_count": 6,
      "outputs": [
        {
          "output_type": "stream",
          "text": [
            "5.0\n"
          ],
          "name": "stdout"
        }
      ]
    },
    {
      "cell_type": "code",
      "metadata": {
        "id": "I_C8cOeYRWHw",
        "colab_type": "code",
        "colab": {}
      },
      "source": [
        "j= 8\n",
        "j*=2"
      ],
      "execution_count": 0,
      "outputs": []
    },
    {
      "cell_type": "code",
      "metadata": {
        "id": "kpqAgo6FRdnJ",
        "colab_type": "code",
        "colab": {
          "base_uri": "https://localhost:8080/",
          "height": 34
        },
        "outputId": "8270f3b9-e7b9-417c-c98a-9cb42bb97fb3"
      },
      "source": [
        "print (j)"
      ],
      "execution_count": 8,
      "outputs": [
        {
          "output_type": "stream",
          "text": [
            "16\n"
          ],
          "name": "stdout"
        }
      ]
    },
    {
      "cell_type": "code",
      "metadata": {
        "id": "TT4b0rc7Rfor",
        "colab_type": "code",
        "colab": {}
      },
      "source": [
        "h= 20\n",
        "h//=2"
      ],
      "execution_count": 0,
      "outputs": []
    },
    {
      "cell_type": "code",
      "metadata": {
        "id": "nZvpOx0cRmEO",
        "colab_type": "code",
        "colab": {
          "base_uri": "https://localhost:8080/",
          "height": 34
        },
        "outputId": "3734f21e-23ec-498d-8ea4-2be034a8323c"
      },
      "source": [
        "print (h)\n"
      ],
      "execution_count": 10,
      "outputs": [
        {
          "output_type": "stream",
          "text": [
            "10\n"
          ],
          "name": "stdout"
        }
      ]
    },
    {
      "cell_type": "code",
      "metadata": {
        "id": "wu1KF5GaRn70",
        "colab_type": "code",
        "colab": {
          "base_uri": "https://localhost:8080/",
          "height": 34
        },
        "outputId": "89e37c5e-ceb0-40b3-fb76-49a2117b053b"
      },
      "source": [
        "sala = \"3.120\"\n",
        "print (sala *3)"
      ],
      "execution_count": 16,
      "outputs": [
        {
          "output_type": "stream",
          "text": [
            "3.1203.1203.120\n"
          ],
          "name": "stdout"
        }
      ]
    },
    {
      "cell_type": "code",
      "metadata": {
        "id": "ARB4A7cUR1IN",
        "colab_type": "code",
        "colab": {
          "base_uri": "https://localhost:8080/",
          "height": 34
        },
        "outputId": "92ee0ef9-ab6c-4a1b-e817-6472a8a5da2f"
      },
      "source": [
        "owoc = \"banan\"\n",
        "print (owoc * 2)"
      ],
      "execution_count": 22,
      "outputs": [
        {
          "output_type": "stream",
          "text": [
            "bananbanan\n"
          ],
          "name": "stdout"
        }
      ]
    },
    {
      "cell_type": "code",
      "metadata": {
        "id": "UxUp9DdFS9ED",
        "colab_type": "code",
        "colab": {
          "base_uri": "https://localhost:8080/",
          "height": 34
        },
        "outputId": "53c55d8d-2c9f-4a95-eed4-5b1ea7338985"
      },
      "source": [
        "Sala = 4\n",
        "print (Sala)"
      ],
      "execution_count": 28,
      "outputs": [
        {
          "output_type": "stream",
          "text": [
            "4\n"
          ],
          "name": "stdout"
        }
      ]
    },
    {
      "cell_type": "code",
      "metadata": {
        "id": "1CCMJ_N6UNFC",
        "colab_type": "code",
        "colab": {}
      },
      "source": [
        ""
      ],
      "execution_count": 0,
      "outputs": []
    },
    {
      "cell_type": "markdown",
      "metadata": {
        "id": "rswsGAFsVRMQ",
        "colab_type": "text"
      },
      "source": [
        "NAZWY ZMIENNYCH\n",
        "‒\tMuszą zaczynać się od litery lub podkreślenia\n",
        "\n",
        "‒\tMogą zawierać litery, cyfry, podkreślenia (bez polskich znaków)\n",
        "\n",
        "‒\tWielkość znaków ma znaczenie\n",
        "\n",
        "‒\tPewne słowa są zarezerwowane np. do funkcji i metod  tych zarezerwowanych słów nie stosuje się do nazywania zmiennych\n",
        "\n",
        "‒\tNazwy zmiennych mają nieść znaczenie!\n"
      ]
    },
    {
      "cell_type": "code",
      "metadata": {
        "id": "kKfMr3PDVXN8",
        "colab_type": "code",
        "colab": {
          "base_uri": "https://localhost:8080/",
          "height": 34
        },
        "outputId": "d8714222-3682-447f-f14d-88a3cc7d12af"
      },
      "source": [
        "type = (3) "
      ],
      "execution_count": 30,
      "outputs": [
        {
          "output_type": "execute_result",
          "data": {
            "text/plain": [
              "int"
            ]
          },
          "metadata": {
            "tags": []
          },
          "execution_count": 30
        }
      ]
    },
    {
      "cell_type": "code",
      "metadata": {
        "id": "kRy-ZIYPW8CE",
        "colab_type": "code",
        "colab": {
          "base_uri": "https://localhost:8080/",
          "height": 34
        },
        "outputId": "60213761-dc2f-4d54-b3ba-71a727b7b382"
      },
      "source": [
        "\n",
        "float\n",
        "\n",
        "\n"
      ],
      "execution_count": 42,
      "outputs": [
        {
          "output_type": "execute_result",
          "data": {
            "text/plain": [
              "float"
            ]
          },
          "metadata": {
            "tags": []
          },
          "execution_count": 42
        }
      ]
    },
    {
      "cell_type": "code",
      "metadata": {
        "id": "HuzlW6UYXPUq",
        "colab_type": "code",
        "colab": {
          "base_uri": "https://localhost:8080/",
          "height": 34
        },
        "outputId": "5308114c-0e13-4c16-c78f-5c84b855a655"
      },
      "source": [
        "3 == 3"
      ],
      "execution_count": 37,
      "outputs": [
        {
          "output_type": "execute_result",
          "data": {
            "text/plain": [
              "True"
            ]
          },
          "metadata": {
            "tags": []
          },
          "execution_count": 37
        }
      ]
    },
    {
      "cell_type": "code",
      "metadata": {
        "id": "ArxymCOjXlYV",
        "colab_type": "code",
        "colab": {
          "base_uri": "https://localhost:8080/",
          "height": 34
        },
        "outputId": "466b1a22-9ca1-407c-ff3c-a25f8829eb36"
      },
      "source": [
        "3 ==5"
      ],
      "execution_count": 38,
      "outputs": [
        {
          "output_type": "execute_result",
          "data": {
            "text/plain": [
              "False"
            ]
          },
          "metadata": {
            "tags": []
          },
          "execution_count": 38
        }
      ]
    },
    {
      "cell_type": "code",
      "metadata": {
        "id": "aqbw-GAdXnrT",
        "colab_type": "code",
        "colab": {
          "base_uri": "https://localhost:8080/",
          "height": 34
        },
        "outputId": "a15d37fa-e6ac-4d18-cbde-d4adf3c6b6d6"
      },
      "source": [
        "3 != 3"
      ],
      "execution_count": 39,
      "outputs": [
        {
          "output_type": "execute_result",
          "data": {
            "text/plain": [
              "False"
            ]
          },
          "metadata": {
            "tags": []
          },
          "execution_count": 39
        }
      ]
    },
    {
      "cell_type": "code",
      "metadata": {
        "id": "dX7LW89rXqhL",
        "colab_type": "code",
        "colab": {
          "base_uri": "https://localhost:8080/",
          "height": 34
        },
        "outputId": "03f3fe44-f167-4902-d9af-32e434d0f2c4"
      },
      "source": [
        "\"sala\" == \"s1ala\""
      ],
      "execution_count": 40,
      "outputs": [
        {
          "output_type": "execute_result",
          "data": {
            "text/plain": [
              "False"
            ]
          },
          "metadata": {
            "tags": []
          },
          "execution_count": 40
        }
      ]
    },
    {
      "cell_type": "code",
      "metadata": {
        "id": "pjHCHMXCX3rB",
        "colab_type": "code",
        "colab": {}
      },
      "source": [
        "\n",
        "\n"
      ],
      "execution_count": 0,
      "outputs": []
    },
    {
      "cell_type": "markdown",
      "metadata": {
        "id": "AB26c1DKYEsl",
        "colab_type": "text"
      },
      "source": [
        "funkcja TYPE()\n",
        "\n",
        "‒\tCo dostanę po wpisaniu poniższego?\n",
        "\n",
        "o\ttype(3)\n",
        "\n",
        "o\ttype(8.3)\n",
        "\n",
        "o\ttype(‘sparrow’)\n",
        "\n",
        "o\tsparrow=True\n",
        "\n",
        "type(sparrow)\n",
        " "
      ]
    },
    {
      "cell_type": "markdown",
      "metadata": {
        "id": "XplPvK28YKR3",
        "colab_type": "text"
      },
      "source": [
        ""
      ]
    },
    {
      "cell_type": "markdown",
      "metadata": {
        "id": "ESOcQ6rMYwVJ",
        "colab_type": "text"
      },
      "source": [
        "len( s ) \n",
        "\n",
        "Zwraca długość obiektu (liczbę elementów) obiektu. Argumentem może być sekwencja (taka jak ciąg, bajty, krotka, lista lub zakres) lub kolekcja (taka jak słownik, zestaw lub zestaw zamrożony)."
      ]
    },
    {
      "cell_type": "code",
      "metadata": {
        "id": "HDlOvwoAYyYW",
        "colab_type": "code",
        "colab": {
          "base_uri": "https://localhost:8080/",
          "height": 34
        },
        "outputId": "f720e21e-9cf4-47e7-b37a-4224f95aaf8c"
      },
      "source": [
        " len (\"pies\")"
      ],
      "execution_count": 44,
      "outputs": [
        {
          "output_type": "execute_result",
          "data": {
            "text/plain": [
              "4"
            ]
          },
          "metadata": {
            "tags": []
          },
          "execution_count": 44
        }
      ]
    },
    {
      "cell_type": "code",
      "metadata": {
        "id": "5gZKApVjZCH1",
        "colab_type": "code",
        "colab": {
          "base_uri": "https://localhost:8080/",
          "height": 34
        },
        "outputId": "a28f58fb-82ee-41d8-9703-b1e80734c409"
      },
      "source": [
        "len (\"pi e s\")"
      ],
      "execution_count": 45,
      "outputs": [
        {
          "output_type": "execute_result",
          "data": {
            "text/plain": [
              "6"
            ]
          },
          "metadata": {
            "tags": []
          },
          "execution_count": 45
        }
      ]
    },
    {
      "cell_type": "code",
      "metadata": {
        "id": "XM2HJPlkZEpo",
        "colab_type": "code",
        "colab": {
          "base_uri": "https://localhost:8080/",
          "height": 34
        },
        "outputId": "17e94fec-7cee-43a6-db0d-2b5b70d9e295"
      },
      "source": [
        "org = [\"Dog Rescue\", \"Animal Patrol\"] \n",
        "len (org)"
      ],
      "execution_count": 50,
      "outputs": [
        {
          "output_type": "execute_result",
          "data": {
            "text/plain": [
              "2"
            ]
          },
          "metadata": {
            "tags": []
          },
          "execution_count": 50
        }
      ]
    },
    {
      "cell_type": "code",
      "metadata": {
        "id": "8lYR7rANZwSH",
        "colab_type": "code",
        "colab": {}
      },
      "source": [
        ""
      ],
      "execution_count": 0,
      "outputs": []
    }
  ]
}